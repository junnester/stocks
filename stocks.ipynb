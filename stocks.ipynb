{
 "cells": [
  {
   "cell_type": "code",
   "execution_count": 31,
   "metadata": {
    "collapsed": false
   },
   "outputs": [],
   "source": [
    "import Quandl\n",
    "import yahoo_finance\n",
    "import pandas\n",
    "import workdays\n",
    "import matplotlib as mpl\n",
    "import pprint as pprint"
   ]
  },
  {
   "cell_type": "code",
   "execution_count": 39,
   "metadata": {
    "collapsed": false
   },
   "outputs": [],
   "source": [
    "class stocks():\n",
    "    def __init__(self, symbol):\n",
    "        self.symbol = symbol\n",
    "        return None\n",
    "         \n",
    "    def get_marketdata(self, symbol=None):\n",
    "        \"\"\"Get yahoo market data\"\"\"\n",
    "        symbol = self.symbol\n",
    "        try:\n",
    "            sym_object = yahoo_finance.Share(symbol)\n",
    "            return sym_object\n",
    "        except:\n",
    "            print(\"ERROR: yahoo_finance.Share(\" + symbol + \") failed.\")\n",
    "            raise\n",
    "    \n",
    "\n",
    "    def get_daterange(self, n_daysback):\n",
    "        \"\"\"Calcs the start and end dates from n_daysback\"\"\"\n",
    "        today = datetime.date.today()\n",
    "        w = workdays\n",
    "        n_daysback *= -1\n",
    "        date_start = str(w.workday(today, n_daysback))  # n workdays ago\n",
    "        date_end = str(w.workday(today))\n",
    "        return date_start, date_end\n"
   ]
  },
  {
   "cell_type": "code",
   "execution_count": 43,
   "metadata": {
    "collapsed": false
   },
   "outputs": [
    {
     "data": {
      "text/plain": [
       "'749.55'"
      ]
     },
     "execution_count": 43,
     "metadata": {},
     "output_type": "execute_result"
    }
   ],
   "source": [
    "run = stocks('GOOG')\n",
    "sym_obj = run.get_marketdata()\n",
    "sym_obj.get_historical(start, end)"
   ]
  },
  {
   "cell_type": "code",
   "execution_count": null,
   "metadata": {
    "collapsed": false
   },
   "outputs": [],
   "source": []
  },
  {
   "cell_type": "code",
   "execution_count": null,
   "metadata": {
    "collapsed": true
   },
   "outputs": [],
   "source": []
  }
 ],
 "metadata": {
  "kernelspec": {
   "display_name": "Python 2",
   "language": "python",
   "name": "python2"
  },
  "language_info": {
   "codemirror_mode": {
    "name": "ipython",
    "version": 2
   },
   "file_extension": ".py",
   "mimetype": "text/x-python",
   "name": "python",
   "nbconvert_exporter": "python",
   "pygments_lexer": "ipython2",
   "version": "2.7.6"
  }
 },
 "nbformat": 4,
 "nbformat_minor": 0
}
