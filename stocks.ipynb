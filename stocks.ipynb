{
 "cells": [
  {
   "cell_type": "code",
   "execution_count": 1,
   "metadata": {
    "collapsed": false
   },
   "outputs": [],
   "source": [
    "import Quandl\n",
    "import yahoo_finance\n",
    "import pandas\n",
    "import workdays\n",
    "import matplotlib.pyplot as plt\n",
    "import pprint as pprint\n",
    "import datetime"
   ]
  },
  {
   "cell_type": "code",
   "execution_count": 2,
   "metadata": {
    "collapsed": false
   },
   "outputs": [],
   "source": [
    "class stocks():\n",
    "    def __init__(self, symbol):\n",
    "        self.symbol = symbol\n",
    "        return None\n",
    "         \n",
    "    def get_marketdata(self, symbol=None):\n",
    "        \"\"\"Get yahoo market data\"\"\"\n",
    "        symbol = self.symbol\n",
    "        try:\n",
    "            sym_object = yahoo_finance.Share(symbol)\n",
    "            return sym_object\n",
    "        except:\n",
    "            print(\"ERROR: yahoo_finance.Share(\" + symbol + \") failed.\")\n",
    "            raise\n",
    "    \n",
    "\n",
    "    def get_daterange(self, n_daysback):\n",
    "        \"\"\"Calcs the start and end dates from n_daysback\"\"\"\n",
    "        today = datetime.date.today()\n",
    "        w = workdays\n",
    "        n_daysback *= -1\n",
    "        date_start = str(w.workday(today, n_daysback))  # n workdays ago\n",
    "        date_end = str(w.workday(today))\n",
    "        return date_start, date_end\n"
   ]
  },
  {
   "cell_type": "code",
   "execution_count": 3,
   "metadata": {
    "collapsed": false
   },
   "outputs": [],
   "source": [
    "stock = stocks('GOOG')\n",
    "goog = stock.get_marketdata()\n",
    "start, end = stock.get_daterange(90)\n",
    "goog90 = goog.get_historical(start, end)\n"
   ]
  },
  {
   "cell_type": "code",
   "execution_count": 4,
   "metadata": {
    "collapsed": false
   },
   "outputs": [
    {
     "name": "stdout",
     "output_type": "stream",
     "text": [
      "<type 'list'>\n"
     ]
    }
   ],
   "source": [
    "print type(goog90)\n"
   ]
  },
  {
   "cell_type": "code",
   "execution_count": 5,
   "metadata": {
    "collapsed": false
   },
   "outputs": [
    {
     "data": {
      "text/plain": [
       "{'Adj_Close': '776.599976',\n",
       " 'Close': '776.599976',\n",
       " 'Date': '2015-12-29',\n",
       " 'High': '779.97998',\n",
       " 'Low': '766.429993',\n",
       " 'Open': '766.690002',\n",
       " 'Symbol': 'GOOG',\n",
       " 'Volume': '1763700'}"
      ]
     },
     "execution_count": 5,
     "metadata": {},
     "output_type": "execute_result"
    }
   ],
   "source": [
    "# list of dict\n",
    "goog90[0]"
   ]
  },
  {
   "cell_type": "code",
   "execution_count": 6,
   "metadata": {
    "collapsed": false
   },
   "outputs": [
    {
     "data": {
      "text/plain": [
       "'2015-12-28'"
      ]
     },
     "execution_count": 6,
     "metadata": {},
     "output_type": "execute_result"
    }
   ],
   "source": [
    "goog90[1]['Date']"
   ]
  },
  {
   "cell_type": "code",
   "execution_count": 9,
   "metadata": {
    "collapsed": false
   },
   "outputs": [],
   "source": [
    "close_price = list()\n",
    "date_ = list()\n",
    "for i in goog90:\n",
    "    close_price.append(i['Close'])\n",
    "    date_.append(i['Date'])\n"
   ]
  },
  {
   "cell_type": "code",
   "execution_count": 13,
   "metadata": {
    "collapsed": false
   },
   "outputs": [
    {
     "name": "stderr",
     "output_type": "stream",
     "text": [
      "UsageError: unrecognized arguments: # print here"
     ]
    }
   ],
   "source": [
    "%matplotlib inline  # print here\n",
    "plt.plot(1,2,3) # x and y are list\n",
    "plt.show()"
   ]
  },
  {
   "cell_type": "code",
   "execution_count": null,
   "metadata": {
    "collapsed": true
   },
   "outputs": [],
   "source": []
  }
 ],
 "metadata": {
  "kernelspec": {
   "display_name": "Python 2",
   "language": "python",
   "name": "python2"
  },
  "language_info": {
   "codemirror_mode": {
    "name": "ipython",
    "version": 2
   },
   "file_extension": ".py",
   "mimetype": "text/x-python",
   "name": "python",
   "nbconvert_exporter": "python",
   "pygments_lexer": "ipython2",
   "version": "2.7.6"
  }
 },
 "nbformat": 4,
 "nbformat_minor": 0
}
